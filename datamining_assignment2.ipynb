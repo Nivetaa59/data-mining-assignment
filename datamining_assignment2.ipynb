{
  "nbformat": 4,
  "nbformat_minor": 0,
  "metadata": {
    "colab": {
      "provenance": []
    },
    "kernelspec": {
      "name": "python3",
      "display_name": "Python 3"
    },
    "language_info": {
      "name": "python"
    }
  },
  "cells": [
    {
      "cell_type": "code",
      "execution_count": 3,
      "metadata": {
        "id": "yE68PU8XWcSQ"
      },
      "outputs": [],
      "source": [
        "def add(x, y):\n",
        "    return x + y\n",
        "\n",
        "def subtract(x, y):\n",
        "    return x - y\n",
        "\n",
        "def multiply(x, y):\n",
        "    return x * y\n",
        "\n",
        "def divide(x, y):\n",
        "    if y == 0:\n",
        "        return \"Cannot divide by zero!\"\n",
        "    return x / y"
      ]
    },
    {
      "cell_type": "code",
      "source": [
        "a = 15\n",
        "b = 5\n",
        "print(f\"Addition: {add(a, b)}\")\n",
        "print(f\"Subtraction: {subtract(a, b)}\")\n",
        "print(f\"Multiplication: {multiply(a, b)}\")\n",
        "print(f\"Division: {divide(a, b)}\")\n",
        "print(f\"Division by zero: {divide(a, 0)}\")"
      ],
      "metadata": {
        "colab": {
          "base_uri": "https://localhost:8080/"
        },
        "id": "pB2jlvxId_x3",
        "outputId": "c6405a85-37ec-4749-e5bf-41b9ff97343c"
      },
      "execution_count": 5,
      "outputs": [
        {
          "output_type": "stream",
          "name": "stdout",
          "text": [
            "Addition: 20\n",
            "Subtraction: 10\n",
            "Multiplication: 75\n",
            "Division: 3.0\n",
            "Division by zero: Cannot divide by zero!\n"
          ]
        }
      ]
    }
  ]
}